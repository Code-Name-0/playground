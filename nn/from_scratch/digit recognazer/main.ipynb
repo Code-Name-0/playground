{
 "cells": [
  {
   "cell_type": "code",
   "execution_count": 33,
   "id": "60feffa7-828c-4b8d-aa5b-dd389f643442",
   "metadata": {},
   "outputs": [],
   "source": [
    "import pandas as pd\n",
    "import numpy as nm\n",
    "from matplotlib import pyplot as plt\n"
   ]
  },
  {
   "cell_type": "code",
   "execution_count": 38,
   "id": "a3eb4550-db67-4d58-bd4a-5f8e9ef11aca",
   "metadata": {},
   "outputs": [],
   "source": [
    "data = pd.read_csv('digit-recognizer/train.csv')"
   ]
  },
  {
   "cell_type": "code",
   "execution_count": 39,
   "id": "041c3b3a-666a-4a33-a7a3-51938bb69f59",
   "metadata": {},
   "outputs": [],
   "source": [
    "data = np.array(data)"
   ]
  },
  {
   "cell_type": "code",
   "execution_count": 40,
   "id": "c295bd80-e125-42a3-a1e6-4053580bf65e",
   "metadata": {},
   "outputs": [],
   "source": [
    "m, n = data.shape\n",
    "np.random.shuffle(data)"
   ]
  },
  {
   "cell_type": "code",
   "execution_count": 51,
   "id": "d043d398-6911-4c16-b198-7d820e7cb134",
   "metadata": {},
   "outputs": [],
   "source": [
    "data_dev = data[0:1000].T\n",
    "y_dev = data_dev[0]\n",
    "x_dev = data[1:n] "
   ]
  },
  {
   "cell_type": "code",
   "execution_count": 52,
   "id": "b1c33cc3-cd88-4d97-8b09-01091e38624f",
   "metadata": {},
   "outputs": [],
   "source": [
    "data_train = data[1000:m].T\n",
    "y_train = data_train[0]\n",
    "x_train = data_train[1:n]"
   ]
  },
  {
   "cell_type": "code",
   "execution_count": 64,
   "id": "d1e359c1-2b0e-4e4c-a112-e0f66816d22b",
   "metadata": {},
   "outputs": [],
   "source": [
    "def init_params():\n",
    "    w1 = np.random.rand(10, 784) - 0.5\n",
    "    b1 = np.random.rand(10, 1) - 0.5\n",
    "    w2 = np.random.rand(10, 10) - 0.5\n",
    "    b2 = np.random.rand(10, 1) - 0.5\n",
    "\n",
    "    return w1,  b1, w2, b2\n",
    "    "
   ]
  },
  {
   "cell_type": "code",
   "execution_count": 61,
   "id": "4ac5b71c-6e5f-4851-a9cb-e8f4229869cd",
   "metadata": {},
   "outputs": [],
   "source": [
    "def ReLU(z):\n",
    "    return np.maximum(0, z)\n",
    "\n",
    "def softmax(z):\n",
    "    return np.exp(z)  / np.sum(exp(z))\n",
    "\n",
    "def forward_prop(w1,b1,w2,b2,X):\n",
    "    z1 = w1.dot(X) + b1 \n",
    "    a1 = ReLU(z1)\n",
    "    z2 = w2.dot(a1) + b2\n",
    "    a2 = softmax(a1)\n",
    "\n",
    "    return z1, a1, z2, a2\n",
    "\n",
    "def back_prop():\n",
    "    "
   ]
  },
  {
   "cell_type": "code",
   "execution_count": 63,
   "id": "44318c8c-488c-46c6-bf9c-0c5a5731fc70",
   "metadata": {},
   "outputs": [
    {
     "data": {
      "text/plain": [
       "(10, 784)"
      ]
     },
     "execution_count": 63,
     "metadata": {},
     "output_type": "execute_result"
    }
   ],
   "source": [
    "\n"
   ]
  },
  {
   "cell_type": "code",
   "execution_count": null,
   "id": "d0e70448-fee6-4a40-8b7b-e310389127d9",
   "metadata": {},
   "outputs": [],
   "source": []
  }
 ],
 "metadata": {
  "kernelspec": {
   "display_name": "Python 3 (ipykernel)",
   "language": "python",
   "name": "python3"
  },
  "language_info": {
   "codemirror_mode": {
    "name": "ipython",
    "version": 3
   },
   "file_extension": ".py",
   "mimetype": "text/x-python",
   "name": "python",
   "nbconvert_exporter": "python",
   "pygments_lexer": "ipython3",
   "version": "3.10.12"
  }
 },
 "nbformat": 4,
 "nbformat_minor": 5
}
